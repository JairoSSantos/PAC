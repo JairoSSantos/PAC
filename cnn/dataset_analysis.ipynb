{
 "cells": [
  {
   "cell_type": "code",
   "execution_count": 49,
   "id": "08351807-cb5d-4b69-9e3a-de47f22c997a",
   "metadata": {},
   "outputs": [],
   "source": [
    "import numpy as np\n",
    "import pandas as pd\n",
    "import matplotlib.pyplot as plt\n",
    "from data import *\n",
    "from skimage.color import rgb2gray\n",
    "from preprocess import align"
   ]
  },
  {
   "cell_type": "code",
   "execution_count": 2,
   "id": "889a190a-b063-4ee9-b84b-656ba86b2621",
   "metadata": {},
   "outputs": [
    {
     "data": {
      "text/html": [
       "<div>\n",
       "<style scoped>\n",
       "    .dataframe tbody tr th:only-of-type {\n",
       "        vertical-align: middle;\n",
       "    }\n",
       "\n",
       "    .dataframe tbody tr th {\n",
       "        vertical-align: top;\n",
       "    }\n",
       "\n",
       "    .dataframe thead th {\n",
       "        text-align: right;\n",
       "    }\n",
       "</style>\n",
       "<table border=\"1\" class=\"dataframe\">\n",
       "  <thead>\n",
       "    <tr style=\"text-align: right;\">\n",
       "      <th></th>\n",
       "      <th>filenames</th>\n",
       "      <th>areas</th>\n",
       "      <th>Ap</th>\n",
       "      <th>fx</th>\n",
       "      <th>fy</th>\n",
       "      <th>training</th>\n",
       "    </tr>\n",
       "  </thead>\n",
       "  <tbody>\n",
       "    <tr>\n",
       "      <th>0</th>\n",
       "      <td>0.jpg</td>\n",
       "      <td>100.473</td>\n",
       "      <td>0.004410</td>\n",
       "      <td>0.066406</td>\n",
       "      <td>0.066406</td>\n",
       "      <td>True</td>\n",
       "    </tr>\n",
       "    <tr>\n",
       "      <th>1</th>\n",
       "      <td>1.jpg</td>\n",
       "      <td>127.880</td>\n",
       "      <td>0.009537</td>\n",
       "      <td>0.097656</td>\n",
       "      <td>0.097656</td>\n",
       "      <td>True</td>\n",
       "    </tr>\n",
       "    <tr>\n",
       "      <th>2</th>\n",
       "      <td>2.jpg</td>\n",
       "      <td>161.820</td>\n",
       "      <td>0.008072</td>\n",
       "      <td>0.089844</td>\n",
       "      <td>0.089844</td>\n",
       "      <td>True</td>\n",
       "    </tr>\n",
       "    <tr>\n",
       "      <th>3</th>\n",
       "      <td>3.jpg</td>\n",
       "      <td>190.003</td>\n",
       "      <td>0.008423</td>\n",
       "      <td>0.093750</td>\n",
       "      <td>0.089844</td>\n",
       "      <td>False</td>\n",
       "    </tr>\n",
       "    <tr>\n",
       "      <th>4</th>\n",
       "      <td>4.jpg</td>\n",
       "      <td>22.713</td>\n",
       "      <td>0.002579</td>\n",
       "      <td>0.050781</td>\n",
       "      <td>0.050781</td>\n",
       "      <td>True</td>\n",
       "    </tr>\n",
       "    <tr>\n",
       "      <th>...</th>\n",
       "      <td>...</td>\n",
       "      <td>...</td>\n",
       "      <td>...</td>\n",
       "      <td>...</td>\n",
       "      <td>...</td>\n",
       "      <td>...</td>\n",
       "    </tr>\n",
       "    <tr>\n",
       "      <th>350</th>\n",
       "      <td>350.jpg</td>\n",
       "      <td>98.599</td>\n",
       "      <td>0.004944</td>\n",
       "      <td>0.070312</td>\n",
       "      <td>0.070312</td>\n",
       "      <td>False</td>\n",
       "    </tr>\n",
       "    <tr>\n",
       "      <th>351</th>\n",
       "      <td>351.jpg</td>\n",
       "      <td>98.599</td>\n",
       "      <td>0.005508</td>\n",
       "      <td>0.074219</td>\n",
       "      <td>0.074219</td>\n",
       "      <td>False</td>\n",
       "    </tr>\n",
       "    <tr>\n",
       "      <th>352</th>\n",
       "      <td>352.jpg</td>\n",
       "      <td>98.599</td>\n",
       "      <td>0.004944</td>\n",
       "      <td>0.070312</td>\n",
       "      <td>0.070312</td>\n",
       "      <td>True</td>\n",
       "    </tr>\n",
       "    <tr>\n",
       "      <th>353</th>\n",
       "      <td>353.jpg</td>\n",
       "      <td>98.599</td>\n",
       "      <td>0.005508</td>\n",
       "      <td>0.074219</td>\n",
       "      <td>0.074219</td>\n",
       "      <td>True</td>\n",
       "    </tr>\n",
       "    <tr>\n",
       "      <th>354</th>\n",
       "      <td>354.jpg</td>\n",
       "      <td>98.599</td>\n",
       "      <td>0.005508</td>\n",
       "      <td>0.074219</td>\n",
       "      <td>0.074219</td>\n",
       "      <td>True</td>\n",
       "    </tr>\n",
       "  </tbody>\n",
       "</table>\n",
       "<p>355 rows × 6 columns</p>\n",
       "</div>"
      ],
      "text/plain": [
       "    filenames    areas        Ap        fx        fy  training\n",
       "0       0.jpg  100.473  0.004410  0.066406  0.066406      True\n",
       "1       1.jpg  127.880  0.009537  0.097656  0.097656      True\n",
       "2       2.jpg  161.820  0.008072  0.089844  0.089844      True\n",
       "3       3.jpg  190.003  0.008423  0.093750  0.089844     False\n",
       "4       4.jpg   22.713  0.002579  0.050781  0.050781      True\n",
       "..        ...      ...       ...       ...       ...       ...\n",
       "350   350.jpg   98.599  0.004944  0.070312  0.070312     False\n",
       "351   351.jpg   98.599  0.005508  0.074219  0.074219     False\n",
       "352   352.jpg   98.599  0.004944  0.070312  0.070312      True\n",
       "353   353.jpg   98.599  0.005508  0.074219  0.074219      True\n",
       "354   354.jpg   98.599  0.005508  0.074219  0.074219      True\n",
       "\n",
       "[355 rows x 6 columns]"
      ]
     },
     "execution_count": 2,
     "metadata": {},
     "output_type": "execute_result"
    }
   ],
   "source": [
    "dataset = get_dataset(filtered=True)\n",
    "dataset"
   ]
  },
  {
   "cell_type": "code",
   "execution_count": 15,
   "id": "aaf1a7b0-ada2-4897-ac10-bd5b9dd73b7c",
   "metadata": {},
   "outputs": [],
   "source": [
    "norm = lambda img: (img - img.min())/(img.max() - img.min())\n",
    "dataset['filtered'] = dataset.filenames.apply(get, args=[True, norm])\n",
    "dataset['images'] = dataset.filenames.apply(get, args=[False, lambda img: align(rgb2gray(img))])"
   ]
  },
  {
   "cell_type": "code",
   "execution_count": 16,
   "id": "eef3573a-616b-4bb9-89e2-1e589d0d5c9c",
   "metadata": {},
   "outputs": [
    {
     "data": {
      "text/plain": [
       "(66.19718309859155, 33.80281690140845)"
      ]
     },
     "execution_count": 16,
     "metadata": {},
     "output_type": "execute_result"
    }
   ],
   "source": [
    "train = dataset[dataset.training]\n",
    "test = dataset[~dataset.training]\n",
    "len(train)/len(dataset)*100, len(test)/len(dataset)*100"
   ]
  },
  {
   "cell_type": "code",
   "execution_count": 5,
   "id": "98fe4ce3-8311-4950-87d0-5a468f78cf2b",
   "metadata": {},
   "outputs": [
    {
     "data": {
      "image/png": "[encoded data removed]",
      "text/plain": [
       "<Figure size 432x288 with 1 Axes>"
      ]
     },
     "metadata": {
      "needs_background": "light"
     },
     "output_type": "display_data"
    }
   ],
   "source": [
    "plt.hist(dataset.areas, alpha=0.5, bins=20, label='dataset')\n",
    "plt.hist(train.areas, alpha=0.5, bins=20, label='treinamento')\n",
    "plt.hist(test.areas, alpha=0.5, bins=20, label='validação')\n",
    "plt.legend()\n",
    "plt.xlabel(r'area (mm$^2$)')\n",
    "plt.show()"
   ]
  },
  {
   "cell_type": "code",
   "execution_count": 6,
   "id": "0d19b996-7686-4c20-9584-3f80389167cb",
   "metadata": {},
   "outputs": [
    {
     "data": {
      "image/png": "[encoded data removed]",
      "text/plain": [
       "<Figure size 432x288 with 1 Axes>"
      ]
     },
     "metadata": {
      "needs_background": "light"
     },
     "output_type": "display_data"
    }
   ],
   "source": [
    "plt.hist(dataset.Ap, alpha=0.5, bins=20, label='dataset')\n",
    "plt.hist(train.Ap, alpha=0.5, bins=20, label='treinamento')\n",
    "plt.hist(test.Ap, alpha=0.5, bins=20, label='validação')\n",
    "plt.legend()\n",
    "plt.xlabel('area por píxel (mm$^2$/p$^2$)')\n",
    "plt.show()"
   ]
  },
  {
   "cell_type": "code",
   "execution_count": 7,
   "id": "89d53577-02d7-4553-81ff-b5efe308da97",
   "metadata": {},
   "outputs": [
    {
     "data": {
      "image/png": "[encoded data removed]",
      "text/plain": [
       "<Figure size 432x288 with 1 Axes>"
      ]
     },
     "metadata": {
      "needs_background": "light"
     },
     "output_type": "display_data"
    }
   ],
   "source": [
    "plt.hist(dataset.fx, alpha=0.5, bins=20, label='dataset')\n",
    "plt.hist(train.fx, alpha=0.5, bins=20, label='treinamento')\n",
    "plt.hist(test.fx, alpha=0.5, bins=20, label='validação')\n",
    "plt.legend()\n",
    "plt.xlabel('escala horizontal (mm/p)')\n",
    "plt.show()"
   ]
  },
  {
   "cell_type": "code",
   "execution_count": 8,
   "id": "86201cde-a23e-4816-b1ee-2fe2a39c73d1",
   "metadata": {},
   "outputs": [
    {
     "data": {
      "image/png": "[encoded data removed]",
      "text/plain": [
       "<Figure size 432x288 with 1 Axes>"
      ]
     },
     "metadata": {
      "needs_background": "light"
     },
     "output_type": "display_data"
    }
   ],
   "source": [
    "plt.hist(dataset.fy, alpha=0.5, bins=20, label='dataset')\n",
    "plt.hist(train.fy, alpha=0.5, bins=20, label='treinamento')\n",
    "plt.hist(test.fy, alpha=0.5, bins=20, label='validação')\n",
    "plt.legend()\n",
    "plt.xlabel('escala vertical (mm/p)')\n",
    "plt.show()"
   ]
  },
  {
   "cell_type": "code",
   "execution_count": 17,
   "id": "6f984a05-ef1c-427c-8ced-dfd66f95f62c",
   "metadata": {},
   "outputs": [],
   "source": [
    "filtered = np.array(dataset.filtered.to_list())\n",
    "images = np.array(dataset.images.to_list())"
   ]
  },
  {
   "cell_type": "code",
   "execution_count": 41,
   "id": "8e5d63a8-0812-4963-a5ae-5614e12278c7",
   "metadata": {},
   "outputs": [],
   "source": [
    "window = (30, 30)\n",
    "shape = filtered.shape[1:]\n",
    "m, n, o, p = (\n",
    "    shape[0]//2-window[0]//2,\n",
    "    shape[0]//2+window[0]//2,\n",
    "    shape[1]//2-window[1]//2,\n",
    "    shape[1]//2+window[1]//2\n",
    ")\n",
    "filtered_inner = filtered[:, m:n, o:p]\n",
    "filtered_outter = filtered[:, :window[0], :window[1]]\n",
    "images_inner = images[:, m:n, o:p]\n",
    "images_outter = images[:, :window[0], :window[1]]"
   ]
  },
  {
   "cell_type": "code",
   "execution_count": 53,
   "id": "7ea3f2e8-f606-45c6-9865-0f7a55254ed5",
   "metadata": {},
   "outputs": [
    {
     "data": {
      "image/png": "[encoded data removed]",
      "text/plain": [
       "<Figure size 432x288 with 1 Axes>"
      ]
     },
     "metadata": {
      "needs_background": "light"
     },
     "output_type": "display_data"
    }
   ],
   "source": [
    "plt.hist(np.apply_over_axes(np.mean, filtered_inner, [1, 2])[:, 0, 0], alpha=0.8, label='inner')\n",
    "plt.hist(np.apply_over_axes(np.mean, filtered_outter, [1, 2])[:, 0, 0], alpha=0.8, label='outter')\n",
    "plt.legend()\n",
    "plt.xlabel(f'média')\n",
    "plt.show()"
   ]
  },
  {
   "cell_type": "code",
   "execution_count": 54,
   "id": "a722ea46-7fff-4196-9bc6-d879ef09e55a",
   "metadata": {},
   "outputs": [
    {
     "data": {
      "image/png": "[encoded data removed]",
      "text/plain": [
       "<Figure size 432x288 with 1 Axes>"
      ]
     },
     "metadata": {
      "needs_background": "light"
     },
     "output_type": "display_data"
    }
   ],
   "source": [
    "plt.hist(np.apply_over_axes(np.mean, images_inner, [1, 2])[:, 0, 0], alpha=0.8, label='inner')\n",
    "plt.hist(np.apply_over_axes(np.mean, images_outter, [1, 2])[:, 0, 0], alpha=0.8, label='outter')\n",
    "plt.legend()\n",
    "plt.xlabel(f'média')\n",
    "plt.show()"
   ]
  },
  {
   "cell_type": "code",
   "execution_count": null,
   "id": "40c62e27-a7c2-4211-bd11-b53d82153cd3",
   "metadata": {},
   "outputs": [],
   "source": []
  },
  {
   "cell_type": "code",
   "execution_count": null,
   "id": "e2d9369a-3390-4ca1-b5c8-8009ef7c0630",
   "metadata": {},
   "outputs": [],
   "source": []
  }
 ],
 "metadata": {
  "kernelspec": {
   "display_name": "Python 3 (ipykernel)",
   "language": "python",
   "name": "python3"
  },
  "language_info": {
   "codemirror_mode": {
    "name": "ipython",
    "version": 3
   },
   "file_extension": ".py",
   "mimetype": "text/x-python",
   "name": "python",
   "nbconvert_exporter": "python",
   "pygments_lexer": "ipython3",
   "version": "3.10.6"
  }
 },
 "nbformat": 4,
 "nbformat_minor": 5
}
