{
 "cells": [
  {
   "cell_type": "code",
   "execution_count": null,
   "id": "40bbdef0-a384-4233-bc81-5eb453c3fe5b",
   "metadata": {},
   "outputs": [],
   "source": [
    "from model import *\n",
    "from dscontrol import *\n",
    "import matplotlib.pyplot as plt"
   ]
  },
  {
   "cell_type": "code",
   "execution_count": null,
   "id": "88822fac-d00e-4b6b-a4a2-5b991160426b",
   "metadata": {},
   "outputs": [],
   "source": [
    "#image, filename = by_id(110, name=True)\n",
    "image, filename = next(random_images(names=True))\n",
    "img = rgb2gray(image)\n",
    "plt.imshow(image, origin='lower')\n",
    "plt.show()"
   ]
  },
  {
   "cell_type": "markdown",
   "id": "a15a8ed4-eab2-434c-b92d-e4b110935d64",
   "metadata": {},
   "source": [
    "# Transformação de Hough"
   ]
  },
  {
   "cell_type": "code",
   "execution_count": null,
   "id": "ee902eb1-2548-4e46-aceb-eca9c4e979f8",
   "metadata": {},
   "outputs": [],
   "source": [
    "edges = canny(img)\n",
    "hspace, angles, dists = hough_line(edges, np.linspace(-np.pi/2, np.pi/2, 500))\n",
    "\n",
    "fig, (ax1, ax2) = plt.subplots(1, 2, figsize=(12, 4))\n",
    "ax1.imshow(edges, origin='lower', cmap='gray')\n",
    "ax1.set_title('Bordas')\n",
    "ax2.imshow(hspace, aspect='auto', origin='lower', extent=[angles.min(), angles.max(), dists.min(), dists.max()])\n",
    "ax2.set_title('Espaço de Hough')\n",
    "ax2.set_xlabel('Ângulo (radianos)')\n",
    "ax2.set_ylabel('Distância até a origem')\n",
    "plt.show()"
   ]
  },
  {
   "cell_type": "code",
   "execution_count": null,
   "id": "a1dad92f-656a-43ae-b706-6c7c5e8080f6",
   "metadata": {},
   "outputs": [],
   "source": [
    "slopes = np.degrees(hough_line_peaks(hspace, angles, dists)[1]) + 90\n",
    "slope_values = np.unique(slopes)\n",
    "probs = np.array([np.sum(slopes == val) for val in slope_values])\n",
    "img_slope = slope_values[probs == probs.max()][0]\n",
    "rot_img = rotate(img, img_slope, mode='reflect')\n",
    "\n",
    "fig, (ax1, ax2, ax3) = plt.subplots(1, 3, figsize=(15, 4))\n",
    "ax1.hist(slopes, bins=25)\n",
    "ax1.set_title('Ângulos detectados')\n",
    "ax1.set_xlabel('Ângulo (°)')\n",
    "ax1.set_ylabel('Ocorrências')\n",
    "\n",
    "ax2.imshow(img, cmap='gray', origin='lower')\n",
    "ax2.set_title('Imagem original')\n",
    "ax2.quiver(np.ones(3)*img.shape[1]/2, np.ones(3)*img.shape[0]/2, \n",
    "           [1, 0, np.cos(np.radians(img_slope))], [0, 1, np.sin(np.radians(img_slope))], scale=5, color=['b', 'b', 'r'])\n",
    "\n",
    "ax3.imshow(rot_img, cmap='gray', origin='lower')\n",
    "ax3.set_title('Imagem rotacionada')\n",
    "plt.show()"
   ]
  },
  {
   "cell_type": "markdown",
   "id": "259a3088-f023-4677-b4dd-92e816796b62",
   "metadata": {},
   "source": [
    "# Transformação de Fourier"
   ]
  },
  {
   "cell_type": "code",
   "execution_count": null,
   "id": "ea0e5593-aabc-45de-9406-189f4348358c",
   "metadata": {},
   "outputs": [],
   "source": [
    "fig = plt.figure(figsize=(5, 5))\n",
    "gs = fig.add_gridspec(2, 2,  width_ratios=(4, 1), height_ratios=(1, 4),\n",
    "                      wspace=0, hspace=0)\n",
    "\n",
    "ax = fig.add_subplot(gs[1, 0])\n",
    "ax_plotx = fig.add_subplot(gs[0, 0], sharex=ax)\n",
    "ax_plotx.set_xticks([])\n",
    "ax_plotx.set_yticks([])\n",
    "ax_ploty = fig.add_subplot(gs[1, 1], sharey=ax)\n",
    "ax_ploty.set_xticks([])\n",
    "ax_ploty.set_yticks([])\n",
    "\n",
    "ax.imshow(rot_img, cmap='gray', aspect='auto', origin='lower')\n",
    "ax_plotx.plot(rot_img, 'k-', alpha=0.01)\n",
    "t = np.arange(rot_img.shape[0])\n",
    "for col in rot_img.T: ax_ploty.plot(col, t, 'k-', alpha=0.01)\n",
    "plt.show()"
   ]
  },
  {
   "cell_type": "code",
   "execution_count": null,
   "id": "93a80544-5ac9-4b2e-af28-0bb56992f1c8",
   "metadata": {
    "tags": []
   },
   "outputs": [],
   "source": [
    "fft, xfreq, yfreq = fft2d(rot_img)\n",
    "fft = np.abs(np.fft.fftshift(fft))\n",
    "\n",
    "fig, (ax1, ax2) = plt.subplots(1, 2, figsize=(10, 4))\n",
    "ax1.imshow(rot_img, cmap='gray', origin='lower')\n",
    "ax1.set_title('Imagem')\n",
    "ax2.imshow(fft, vmax=fft.max()*0.007, extent=(xfreq.min(), xfreq.max(), yfreq.min(), yfreq.max()))\n",
    "ax2.set_title('Transformada de fourier 2d')\n",
    "plt.show()"
   ]
  },
  {
   "cell_type": "code",
   "execution_count": null,
   "id": "1619ed72-ae76-46f7-be3a-ab6c1270c751",
   "metadata": {},
   "outputs": [],
   "source": [
    "fig, (ax1, ax2) = plt.subplots(1, 2, figsize=(14, 3))\n",
    "fft_clipped = np.clip(fft, 0, fft.max()*5e-3)\n",
    "\n",
    "ax1.plot(np.fft.ifftshift(xfreq), np.mean(fft_clipped, axis=0))\n",
    "ax1.set_title(r'Média no eixo $x$ da transformada de fourier')\n",
    "ax1.set_xlabel(r'$f$ ($p^{-1}$)')\n",
    "\n",
    "ax2.plot(np.fft.ifftshift(yfreq), np.mean(fft_clipped.T, axis=0))\n",
    "ax2.set_title(r'Média no eixo $y$ da transformada de fourier')\n",
    "ax2.set_xlabel(r'$f$ ($p^{-1}$)')\n",
    "plt.show()"
   ]
  },
  {
   "cell_type": "code",
   "execution_count": null,
   "id": "89071e7d-dbb4-4890-9b9f-aada22dab314",
   "metadata": {},
   "outputs": [],
   "source": [
    "Fx = np.apply_along_axis(higher_frequency, 0, rot_img)\n",
    "Fy = np.apply_along_axis(higher_frequency, 1, rot_img)\n",
    "\n",
    "fig, (ax1, ax2) = plt.subplots(1, 2, figsize=(14, 3))\n",
    "ax1.hist(Fx, bins=20)\n",
    "ax1.set_title(r'Eixo $x$')\n",
    "ax1.set_xlabel(r'$f$ ($p^{-1}$)')\n",
    "ax1.set_ylabel('Ocorrência')\n",
    "\n",
    "ax2.hist(Fy, bins=20)\n",
    "ax2.set_title(r'Eixo $y$')\n",
    "ax2.set_xlabel(r'$f$ ($p^{-1}$)')\n",
    "ax2.set_ylabel('Ocorrência')\n",
    "plt.show()"
   ]
  },
  {
   "cell_type": "code",
   "execution_count": null,
   "id": "d4118d16-7fce-4296-9a59-5cf3c881d5fb",
   "metadata": {},
   "outputs": [],
   "source": [
    "(fx, std_fx), (fy, std_fy) = (np.median(Fx[Fx > 0.025]), np.std(Fx)), (np.median(Fy[Fy > 0.025]), np.std(Fy))\n",
    "fx, fy"
   ]
  },
  {
   "cell_type": "markdown",
   "id": "76a6dfef-dd1d-4abc-bfd6-a7ccb58a23aa",
   "metadata": {},
   "source": [
    "# Filtros de Gabor"
   ]
  },
  {
   "cell_type": "code",
   "execution_count": null,
   "id": "9017f9ab-cd4b-4735-bdeb-a0a950d7f46b",
   "metadata": {},
   "outputs": [],
   "source": [
    "%%time\n",
    "fig, (ax1, ax2, ax3) = plt.subplots(1, 3, figsize=(12, 3))\n",
    "\n",
    "xreal, ximag = gabor(rot_img, fx, 0, n_stds=3)\n",
    "yreal, yimag = gabor(rot_img, fy, np.pi/2, n_stds=3)\n",
    "gabor_x, gabor_y = np.sqrt(xreal**2 + ximag**2), np.sqrt(yreal**2 + yimag**2)\n",
    "filtered = gabor_x + gabor_y\n",
    "\n",
    "ax1.imshow(gabor_x, cmap='gray', origin='lower')\n",
    "ax2.imshow(gabor_y, cmap='gray', origin='lower')\n",
    "ax3.imshow(filtered, cmap='gray', origin='lower')\n",
    "\n",
    "ax1.axis('off')\n",
    "ax2.axis('off')\n",
    "ax3.axis('off')\n",
    "\n",
    "plt.show()"
   ]
  },
  {
   "cell_type": "markdown",
   "id": "d734ac8a-88c0-4dfb-b934-19730db2d7f7",
   "metadata": {},
   "source": [
    "# Segmentação"
   ]
  },
  {
   "cell_type": "code",
   "execution_count": null,
   "id": "14296dbf-c4c9-4526-9d16-464b7a936d78",
   "metadata": {},
   "outputs": [],
   "source": [
    "threshold = threshold_kmeans(filtered, 3, 50)\n",
    "hist, bins = np.histogram(filtered.flat, bins=50)\n",
    "bins = bins[:-1]\n",
    "\n",
    "fig, (ax1, ax2) = plt.subplots(1, 2, figsize=(12, 4))\n",
    "\n",
    "ax1.imshow(filtered, extent=(0, fx*img.shape[1], 0, fy*img.shape[0]), origin='lower', cmap='gray')\n",
    "ax1.set_xlabel(r'$mm$')\n",
    "ax1.set_ylabel(r'$mm$')\n",
    "\n",
    "ax2.bar(bins, hist, (bins.max()-bins.min())/len(bins), \n",
    "        color=np.ones((len(bins), 3))*((bins - bins.min())/(bins.max() - bins.min()))[:, np.newaxis])\n",
    "ax2.vlines(threshold, 0, hist.max(), color='red', label='Segmentação')\n",
    "ax2.set_xlabel('Tons de cinza')\n",
    "ax2.set_ylabel('Ocorrência')\n",
    "ax2.legend()\n",
    "\n",
    "plt.show()"
   ]
  },
  {
   "cell_type": "markdown",
   "id": "3aa1422e-54ba-4f8d-973b-f703c945f45b",
   "metadata": {},
   "source": [
    "# Predição"
   ]
  },
  {
   "cell_type": "code",
   "execution_count": null,
   "id": "66620963-a8c1-443a-b671-dac71ed5daa9",
   "metadata": {},
   "outputs": [],
   "source": [
    "mask = filtered < threshold\n",
    "mask = nd.binary_opening(mask, iterations=6)\n",
    "mask = nd.binary_dilation(mask, iterations=2)\n",
    "\n",
    "plt.imshow(image, origin='lower', extent=[xfreq.min(), xfreq.max(), yfreq.min(), yfreq.max()])\n",
    "plt.contour(*np.meshgrid(np.fft.ifftshift(xfreq), np.fft.ifftshift(yfreq)), \n",
    "            rotate(mask, -img_slope), cmap='plasma', origin='lower')\n",
    "plt.xlabel(r'$mm$')\n",
    "plt.ylabel(r'$mm$')\n",
    "plt.show()"
   ]
  },
  {
   "cell_type": "code",
   "execution_count": null,
   "id": "7c214c5c-f1a1-40cc-a838-119589b17e6d",
   "metadata": {},
   "outputs": [],
   "source": [
    "predict = np.sum(mask)*fx*fy \n",
    "area = float(DS.loc[DS.filename == filename].area)\n",
    "area, predict, np.abs(area-predict)/area*100"
   ]
  },
  {
   "cell_type": "markdown",
   "id": "5be8f489-b485-44d1-ac1a-5c050456a98e",
   "metadata": {},
   "source": [
    "# Filtros de Gabor nas diagonais"
   ]
  },
  {
   "cell_type": "code",
   "execution_count": null,
   "id": "28cebeea-29dc-48de-95ca-4f2fbd01f20e",
   "metadata": {},
   "outputs": [],
   "source": [
    "real45, imag45 = gabor(rot_img, np.sqrt(fx**2 + fy**2), np.pi/4, n_stds=3)\n",
    "gabor45 = np.sqrt(real45**2 + imag45**2)\n",
    "\n",
    "real135, imag135 = gabor(rot_img, np.sqrt(fx**2 + fy**2), np.pi/4 + np.pi/2, n_stds=3)\n",
    "gabor135 = np.sqrt(real135**2 + imag135**2)"
   ]
  },
  {
   "cell_type": "code",
   "execution_count": null,
   "id": "358d07f0-ff46-449d-bf6a-fb25ab80f72b",
   "metadata": {},
   "outputs": [],
   "source": [
    "fig, (ax1, ax2, ax3) = plt.subplots(1, 3, figsize=(12, 4))\n",
    "ax1.imshow(gabor45, cmap='gray', origin='lower')\n",
    "ax2.imshow(gabor135, cmap='gray', origin='lower')\n",
    "ax3.imshow(gabor45 + gabor135, cmap='gray', origin='lower')\n",
    "\n",
    "ax1.axis('off')\n",
    "ax2.axis('off')\n",
    "ax3.axis('off')\n",
    "\n",
    "plt.show()"
   ]
  },
  {
   "cell_type": "code",
   "execution_count": null,
   "id": "a46c711b-a625-475e-842f-62578a81265e",
   "metadata": {},
   "outputs": [],
   "source": [
    "filtered2 = filtered + gabor45 + gabor135\n",
    "plt.imshow(filtered2, origin='lower')"
   ]
  },
  {
   "cell_type": "code",
   "execution_count": null,
   "id": "88d52eee-ac48-42d5-a822-485350cf1807",
   "metadata": {},
   "outputs": [],
   "source": [
    "threshold = threshold_kmeans(filtered2, 3, 50)\n",
    "hist, bins = np.histogram(filtered2.flat, bins=50)\n",
    "bins = bins[:-1]\n",
    "\n",
    "fig, (ax1, ax2) = plt.subplots(1, 2, figsize=(12, 4))\n",
    "\n",
    "ax1.imshow(filtered2, extent=(0, fx*img.shape[1], 0, fy*img.shape[0]), origin='lower', cmap='gray')\n",
    "ax1.set_xlabel(r'$mm$')\n",
    "ax1.set_ylabel(r'$mm$')\n",
    "\n",
    "ax2.bar(bins, hist, (bins.max()-bins.min())/len(bins), \n",
    "        color=np.ones((len(bins), 3))*((bins - bins.min())/(bins.max() - bins.min()))[:, np.newaxis])\n",
    "ax2.vlines(threshold, 0, hist.max(), color='red', label='Segmentação')\n",
    "ax2.set_xlabel('Tons de cinza')\n",
    "ax2.set_ylabel('Ocorrência')\n",
    "ax2.legend()\n",
    "\n",
    "plt.show()"
   ]
  },
  {
   "cell_type": "code",
   "execution_count": null,
   "id": "6f4e8fc3-f71b-43ff-a54d-34b3037ff5bb",
   "metadata": {},
   "outputs": [],
   "source": [
    "mask2 = filtered2 < threshold\n",
    "mask2 = nd.binary_opening(mask2, iterations=10)\n",
    "mask2 = nd.binary_dilation(mask2, iterations=5)\n",
    "\n",
    "plt.imshow(image, origin='lower', extent=[xfreq.min(), xfreq.max(), yfreq.min(), yfreq.max()])\n",
    "plt.contour(*np.meshgrid(np.fft.ifftshift(xfreq), np.fft.ifftshift(yfreq)), \n",
    "            rotate(mask2, -img_slope), cmap='plasma', origin='lower')\n",
    "plt.xlabel(r'$mm$')\n",
    "plt.ylabel(r'$mm$')\n",
    "plt.show()"
   ]
  },
  {
   "cell_type": "code",
   "execution_count": null,
   "id": "0af111fd-5ad6-48b1-be8f-c591bba9f72e",
   "metadata": {},
   "outputs": [],
   "source": [
    "predict = np.sum(mask2)*fx*fy \n",
    "area = float(DS.loc[DS.filename == filename].area)\n",
    "area, predict, np.abs(area-predict)/area*100"
   ]
  },
  {
   "cell_type": "code",
   "execution_count": null,
   "id": "9cc6f915-40da-4695-922d-07de376f2dca",
   "metadata": {
    "tags": []
   },
   "outputs": [],
   "source": []
  },
  {
   "cell_type": "code",
   "execution_count": null,
   "id": "2333e648-8ae7-44fe-be86-7ebf4ad26148",
   "metadata": {},
   "outputs": [],
   "source": []
  }
 ],
 "metadata": {
  "kernelspec": {
   "display_name": "Python 3 (ipykernel)",
   "language": "python",
   "name": "python3"
  },
  "language_info": {
   "codemirror_mode": {
    "name": "ipython",
    "version": 3
   },
   "file_extension": ".py",
   "mimetype": "text/x-python",
   "name": "python",
   "nbconvert_exporter": "python",
   "pygments_lexer": "ipython3",
   "version": "3.10.6"
  }
 },
 "nbformat": 4,
 "nbformat_minor": 5
}
