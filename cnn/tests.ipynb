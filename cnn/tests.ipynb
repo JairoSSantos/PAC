{
 "cells": [
  {
   "cell_type": "code",
   "execution_count": 1,
   "id": "74ed06ec-94d9-457d-b17e-e4786b3ed878",
   "metadata": {},
   "outputs": [],
   "source": [
    "from models import *\n",
    "from DScontrol import *\n",
    "import matplotlib.pyplot as plt\n",
    "import warnings"
   ]
  },
  {
   "cell_type": "code",
   "execution_count": null,
   "id": "cedf9d88-5da5-4a81-bc6a-b924ec761d5f",
   "metadata": {},
   "outputs": [
    {
     "name": "stdout",
     "output_type": "stream",
     "text": [
      "84/355|23.38%\r"
     ]
    }
   ],
   "source": [
    "models = [\n",
    "    EdgeBlur(15, 5, 15, 1, 5),\n",
    "    FourierGabor(5, 0, 5)\n",
    "]\n",
    "\n",
    "predict = {\n",
    "    'EdgeBlur':[],\n",
    "    'FourierGabor':[]\n",
    "}\n",
    "total = len(DS)\n",
    "for i, filename in enumerate(DS.filename):\n",
    "    image = get(filename)\n",
    "    for modelName, model in zip(predict.keys(), models):\n",
    "        with warnings.catch_warnings():\n",
    "            warnings.simplefilter('ignore')\n",
    "            predict[modelName].append(model.predict(image))\n",
    "\n",
    "    print(f'{i+1}/{total}|{(i/total*100):.2f}%', end='\\r')"
   ]
  },
  {
   "cell_type": "code",
   "execution_count": null,
   "id": "11873849-a896-44b5-b436-6d7ffa8ce110",
   "metadata": {},
   "outputs": [],
   "source": []
  }
 ],
 "metadata": {
  "kernelspec": {
   "display_name": "Python 3 (ipykernel)",
   "language": "python",
   "name": "python3"
  },
  "language_info": {
   "codemirror_mode": {
    "name": "ipython",
    "version": 3
   },
   "file_extension": ".py",
   "mimetype": "text/x-python",
   "name": "python",
   "nbconvert_exporter": "python",
   "pygments_lexer": "ipython3",
   "version": "3.10.6"
  }
 },
 "nbformat": 4,
 "nbformat_minor": 5
}
