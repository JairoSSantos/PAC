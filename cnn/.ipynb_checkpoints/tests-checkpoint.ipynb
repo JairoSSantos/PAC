{
 "cells": [
  {
   "cell_type": "code",
   "execution_count": 6,
   "id": "74ed06ec-94d9-457d-b17e-e4786b3ed878",
   "metadata": {},
   "outputs": [],
   "source": [
    "from models import *\n",
    "from DScontrol import *\n",
    "import matplotlib.pyplot as plt\n",
    "import warnings\n",
    "from skimage.transform import rotate, resize, hough_line, hough_line_peaks\n",
    "from skimage.feature import canny\n",
    "from skimage.filters import gabor, threshold_triangle"
   ]
  },
  {
   "cell_type": "code",
   "execution_count": 9,
   "id": "cedf9d88-5da5-4a81-bc6a-b924ec761d5f",
   "metadata": {},
   "outputs": [
    {
     "name": "stdout",
     "output_type": "stream",
     "text": [
      "355/355|99.72%\r"
     ]
    }
   ],
   "source": [
    "#edge = EdgeBlur(15, 5, 15, 1, 5)\n",
    "#gabor = FourierGabor(5, 5, 5)\n",
    "\n",
    "predict = {\n",
    "    #'EdgeBlur':[],\n",
    "    #'EdgeBlur_error':[],\n",
    "    'FourierGabor':[],\n",
    "    'FourierGabor_error':[]\n",
    "}\n",
    "total = len(DS)\n",
    "for i, filename in enumerate(DS.filename):\n",
    "    image = get(filename)\n",
    "    \n",
    "    '''with warnings.catch_warnings():\n",
    "        warnings.simplefilter(\"ignore\")\n",
    "        area, error = edge.predict(image)\n",
    "        predict['EdgeBlur'].append(area)\n",
    "        predict['EdgeBlur_error'].append(error)\n",
    "    area, error = gabor.predict(image)\n",
    "    predict['FourierGabor'].append(area)\n",
    "    predict['FourierGabor_error'].append(error)'''\n",
    "    \n",
    "    img = rgb2gray(image)\n",
    "    \n",
    "    _, angles, _ = hough_line_peaks(*hough_line(canny(img), np.linspace(-np.pi/2, np.pi/2, 500)))\n",
    "    slopes = np.degrees(angles + np.pi/2)\n",
    "    slope_values = np.unique(slopes)\n",
    "    probs = np.array([np.sum(slopes == val)/len(slopes) for val in slope_values])\n",
    "    img_slope = slope_values[probs == probs.max()][0]\n",
    "    img = rotate(img, img_slope, mode='reflect')\n",
    "    \n",
    "    Fx = np.apply_along_axis(pixel_scale_1d, 0, image)\n",
    "    Fy = np.apply_along_axis(pixel_scale_1d, 1, image)\n",
    "    fx, fy = np.median(Fx[Fx > 0.025]), np.median(Fy[Fy > 0.025])\n",
    "    \n",
    "    xreal, ximag = gabor(img, fx, 0)\n",
    "    yreal, yimag = gabor(img, fy, np.pi/2)\n",
    "    filtered = xreal**2 + ximag**2 + yreal**2 + yimag**2\n",
    "\n",
    "    mask = filtered < threshold_triangle(filtered, nbins=50)\n",
    "    #mask = filtered < threshold_minimum(filtered)\n",
    "    mask = nd.binary_opening(mask, iterations=7)\n",
    "    mask = nd.binary_closing(mask, iterations=7)\n",
    "    mask = nd.binary_dilation(mask, iterations=7)\n",
    "    #mask = rotate(mask, -img_slope)\n",
    "    \n",
    "    predict['FourierGabor'].append(np.sum(mask)*fx*fy)\n",
    "\n",
    "    print(f'{i+1}/{total}|{(i/total*100):.2f}%', end='\\r')"
   ]
  },
  {
   "cell_type": "code",
   "execution_count": 40,
   "id": "67cd90e0-a83a-4881-b0ed-707ee9250128",
   "metadata": {},
   "outputs": [
    {
     "data": {
      "text/html": [
       "<div>\n",
       "<style scoped>\n",
       "    .dataframe tbody tr th:only-of-type {\n",
       "        vertical-align: middle;\n",
       "    }\n",
       "\n",
       "    .dataframe tbody tr th {\n",
       "        vertical-align: top;\n",
       "    }\n",
       "\n",
       "    .dataframe thead th {\n",
       "        text-align: right;\n",
       "    }\n",
       "</style>\n",
       "<table border=\"1\" class=\"dataframe\">\n",
       "  <thead>\n",
       "    <tr style=\"text-align: right;\">\n",
       "      <th></th>\n",
       "      <th>filename</th>\n",
       "      <th>area</th>\n",
       "      <th>FourierGabor</th>\n",
       "      <th>FourierGabor_error</th>\n",
       "    </tr>\n",
       "  </thead>\n",
       "  <tbody>\n",
       "    <tr>\n",
       "      <th>0</th>\n",
       "      <td>0.jpg</td>\n",
       "      <td>100.473</td>\n",
       "      <td>105.027969</td>\n",
       "      <td>0.227643</td>\n",
       "    </tr>\n",
       "    <tr>\n",
       "      <th>1</th>\n",
       "      <td>1.jpg</td>\n",
       "      <td>127.880</td>\n",
       "      <td>135.908127</td>\n",
       "      <td>0.023820</td>\n",
       "    </tr>\n",
       "    <tr>\n",
       "      <th>2</th>\n",
       "      <td>2.jpg</td>\n",
       "      <td>161.820</td>\n",
       "      <td>171.705444</td>\n",
       "      <td>0.062668</td>\n",
       "    </tr>\n",
       "    <tr>\n",
       "      <th>3</th>\n",
       "      <td>3.jpg</td>\n",
       "      <td>190.003</td>\n",
       "      <td>181.720215</td>\n",
       "      <td>0.463668</td>\n",
       "    </tr>\n",
       "    <tr>\n",
       "      <th>4</th>\n",
       "      <td>4.jpg</td>\n",
       "      <td>22.713</td>\n",
       "      <td>21.627853</td>\n",
       "      <td>0.009092</td>\n",
       "    </tr>\n",
       "    <tr>\n",
       "      <th>...</th>\n",
       "      <td>...</td>\n",
       "      <td>...</td>\n",
       "      <td>...</td>\n",
       "      <td>...</td>\n",
       "    </tr>\n",
       "    <tr>\n",
       "      <th>350</th>\n",
       "      <td>350.jpg</td>\n",
       "      <td>98.599</td>\n",
       "      <td>100.750671</td>\n",
       "      <td>0.056719</td>\n",
       "    </tr>\n",
       "    <tr>\n",
       "      <th>351</th>\n",
       "      <td>351.jpg</td>\n",
       "      <td>98.599</td>\n",
       "      <td>100.099060</td>\n",
       "      <td>0.122426</td>\n",
       "    </tr>\n",
       "    <tr>\n",
       "      <th>352</th>\n",
       "      <td>352.jpg</td>\n",
       "      <td>98.599</td>\n",
       "      <td>100.805054</td>\n",
       "      <td>0.090786</td>\n",
       "    </tr>\n",
       "    <tr>\n",
       "      <th>353</th>\n",
       "      <td>353.jpg</td>\n",
       "      <td>98.599</td>\n",
       "      <td>100.429565</td>\n",
       "      <td>0.113918</td>\n",
       "    </tr>\n",
       "    <tr>\n",
       "      <th>354</th>\n",
       "      <td>354.jpg</td>\n",
       "      <td>98.599</td>\n",
       "      <td>100.479141</td>\n",
       "      <td>0.112424</td>\n",
       "    </tr>\n",
       "  </tbody>\n",
       "</table>\n",
       "<p>355 rows × 4 columns</p>\n",
       "</div>"
      ],
      "text/plain": [
       "    filename     area  FourierGabor  FourierGabor_error\n",
       "0      0.jpg  100.473    105.027969            0.227643\n",
       "1      1.jpg  127.880    135.908127            0.023820\n",
       "2      2.jpg  161.820    171.705444            0.062668\n",
       "3      3.jpg  190.003    181.720215            0.463668\n",
       "4      4.jpg   22.713     21.627853            0.009092\n",
       "..       ...      ...           ...                 ...\n",
       "350  350.jpg   98.599    100.750671            0.056719\n",
       "351  351.jpg   98.599    100.099060            0.122426\n",
       "352  352.jpg   98.599    100.805054            0.090786\n",
       "353  353.jpg   98.599    100.429565            0.113918\n",
       "354  354.jpg   98.599    100.479141            0.112424\n",
       "\n",
       "[355 rows x 4 columns]"
      ]
     },
     "execution_count": 40,
     "metadata": {},
     "output_type": "execute_result"
    }
   ],
   "source": [
    "ds = pd.concat([DS, pd.DataFrame(predict)], axis=1)\n",
    "ds"
   ]
  },
  {
   "cell_type": "code",
   "execution_count": 10,
   "id": "3f867986-00e4-4ec9-8780-e97cb7b49d48",
   "metadata": {},
   "outputs": [
    {
     "data": {
      "image/png": "[encoded data removed]",
      "text/plain": [
       "<Figure size 432x288 with 1 Axes>"
      ]
     },
     "metadata": {
      "needs_background": "light"
     },
     "output_type": "display_data"
    }
   ],
   "source": [
    "plt.plot(DS.area, '+')\n",
    "plt.plot(predict['FourierGabor'], '+')\n",
    "#plt.plot(ds.EdgeBlur, '+')\n",
    "plt.show()"
   ]
  },
  {
   "cell_type": "code",
   "execution_count": 11,
   "id": "d3020c27-3199-412b-b90d-d83d695ce380",
   "metadata": {},
   "outputs": [],
   "source": [
    "DS['gabor'] = predict['FourierGabor']"
   ]
  },
  {
   "cell_type": "code",
   "execution_count": 33,
   "id": "e1de5de2-4857-40c3-a6f7-2e967826ccca",
   "metadata": {},
   "outputs": [],
   "source": [
    "ds['disp'] = ds.area - ds.FourierGabor"
   ]
  },
  {
   "cell_type": "code",
   "execution_count": 34,
   "id": "44ca13ae-25dd-418f-a1a3-cdec1df51c3d",
   "metadata": {},
   "outputs": [
    {
     "data": {
      "text/plain": [
       "count    355.000000\n",
       "mean      20.458294\n",
       "std       56.856990\n",
       "min        0.000822\n",
       "25%        4.856307\n",
       "50%       11.498254\n",
       "75%       16.079480\n",
       "max      397.087664\n",
       "dtype: float64"
      ]
     },
     "execution_count": 34,
     "metadata": {},
     "output_type": "execute_result"
    }
   ],
   "source": [
    "(np.abs(ds.disp)/ds.area*100).describe()"
   ]
  },
  {
   "cell_type": "code",
   "execution_count": 38,
   "id": "505bebbf-9ebb-4fda-99ac-90f93d81ba65",
   "metadata": {},
   "outputs": [
    {
     "data": {
      "text/plain": [
       "[<matplotlib.lines.Line2D at 0x6aa5664d60>]"
      ]
     },
     "execution_count": 38,
     "metadata": {},
     "output_type": "execute_result"
    },
    {
     "data": {
      "image/png": "[encoded data removed]",
      "text/plain": [
       "<Figure size 432x288 with 1 Axes>"
      ]
     },
     "metadata": {
      "needs_background": "light"
     },
     "output_type": "display_data"
    }
   ],
   "source": [
    "plt.plot(ds.FourierGabor_error, np.abs(ds.disp)/ds.area, 'o')"
   ]
  },
  {
   "cell_type": "code",
   "execution_count": null,
   "id": "ff27bc1c-7373-4d2d-99e1-4c82898ec1af",
   "metadata": {},
   "outputs": [],
   "source": []
  }
 ],
 "metadata": {
  "kernelspec": {
   "display_name": "Python 3 (ipykernel)",
   "language": "python",
   "name": "python3"
  },
  "language_info": {
   "codemirror_mode": {
    "name": "ipython",
    "version": 3
   },
   "file_extension": ".py",
   "mimetype": "text/x-python",
   "name": "python",
   "nbconvert_exporter": "python",
   "pygments_lexer": "ipython3",
   "version": "3.10.6"
  }
 },
 "nbformat": 4,
 "nbformat_minor": 5
}
