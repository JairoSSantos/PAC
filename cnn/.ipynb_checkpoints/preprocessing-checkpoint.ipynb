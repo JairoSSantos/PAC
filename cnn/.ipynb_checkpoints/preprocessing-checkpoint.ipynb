{
 "cells": [
  {
   "cell_type": "code",
   "execution_count": 1,
   "id": "08351807-cb5d-4b69-9e3a-de47f22c997a",
   "metadata": {},
   "outputs": [],
   "source": [
    "import os\n",
    "from data import *\n",
    "from preprocess import *\n",
    "import numpy as np\n",
    "import pandas as pd\n",
    "import matplotlib.pyplot as plt\n",
    "from PIL import Image\n",
    "from skimage.color import rgb2gray"
   ]
  },
  {
   "cell_type": "code",
   "execution_count": 4,
   "id": "47e210ff-4503-43b1-9f62-f28bbd95e10c",
   "metadata": {
    "tags": []
   },
   "outputs": [],
   "source": [
    "df = {'filename':[], 'area':[], 'fx':[], 'fy':[], 'ap':[], 'area_pixel':[], 'fraction':[]}\n",
    "i = 0\n",
    "for filename in os.listdir('dataset_original'):\n",
    "    image = np.array(Image.open(os.path.join('dataset_original', filename)))\n",
    "    area = float('.'.join(filename.split('.')[:-1]))\n",
    "    for im in rotation_augmentation(image):\n",
    "        filename = f'{i}.jpg'\n",
    "        Image.fromarray(norm(im, 0, 255).astype(np.uint8)).save(os.path.join('dataset', 'images', filename))\n",
    "        \n",
    "        gray_img = align(rgb2gray(im))\n",
    "        fx, fy = pixel_scale_edge(gray_img)\n",
    "        ap = fx*fy\n",
    "        area_pixel = area/ap\n",
    "        fraction = area_pixel/(gray_img.shape[0]*gray_img.shape[1])\n",
    "        \n",
    "        Image.fromarray(norm(gabor_filter(gray_img, fx, fy), 0, 255).astype(np.uint8)).save(os.path.join('dataset', 'gabor', filename))\n",
    "        \n",
    "        df['filename'].append(filename)\n",
    "        df['area'].append(area)\n",
    "        df['fx'].append(fx)\n",
    "        df['fy'].append(fy)\n",
    "        df['ap'].append(ap)\n",
    "        df['area_pixel'].append(area_pixel)\n",
    "        df['fraction'].append(fraction)\n",
    "        \n",
    "        i += 1"
   ]
  },
  {
   "cell_type": "code",
   "execution_count": 6,
   "id": "40e0a9f3-2b03-4653-ac76-6c4fc4ee8bd0",
   "metadata": {},
   "outputs": [
    {
     "data": {
      "text/html": [
       "<div>\n",
       "<style scoped>\n",
       "    .dataframe tbody tr th:only-of-type {\n",
       "        vertical-align: middle;\n",
       "    }\n",
       "\n",
       "    .dataframe tbody tr th {\n",
       "        vertical-align: top;\n",
       "    }\n",
       "\n",
       "    .dataframe thead th {\n",
       "        text-align: right;\n",
       "    }\n",
       "</style>\n",
       "<table border=\"1\" class=\"dataframe\">\n",
       "  <thead>\n",
       "    <tr style=\"text-align: right;\">\n",
       "      <th></th>\n",
       "      <th>filename</th>\n",
       "      <th>area</th>\n",
       "      <th>fx</th>\n",
       "      <th>fy</th>\n",
       "      <th>ap</th>\n",
       "      <th>area_pixel</th>\n",
       "      <th>fraction</th>\n",
       "    </tr>\n",
       "  </thead>\n",
       "  <tbody>\n",
       "    <tr>\n",
       "      <th>0</th>\n",
       "      <td>0.jpg</td>\n",
       "      <td>100.473</td>\n",
       "      <td>0.066406</td>\n",
       "      <td>0.066406</td>\n",
       "      <td>0.004410</td>\n",
       "      <td>22784.077952</td>\n",
       "      <td>0.347657</td>\n",
       "    </tr>\n",
       "    <tr>\n",
       "      <th>1</th>\n",
       "      <td>1.jpg</td>\n",
       "      <td>100.473</td>\n",
       "      <td>0.066406</td>\n",
       "      <td>0.066406</td>\n",
       "      <td>0.004410</td>\n",
       "      <td>22784.077952</td>\n",
       "      <td>0.347657</td>\n",
       "    </tr>\n",
       "    <tr>\n",
       "      <th>2</th>\n",
       "      <td>2.jpg</td>\n",
       "      <td>100.473</td>\n",
       "      <td>0.066406</td>\n",
       "      <td>0.066406</td>\n",
       "      <td>0.004410</td>\n",
       "      <td>22784.077952</td>\n",
       "      <td>0.347657</td>\n",
       "    </tr>\n",
       "    <tr>\n",
       "      <th>3</th>\n",
       "      <td>3.jpg</td>\n",
       "      <td>100.473</td>\n",
       "      <td>0.066406</td>\n",
       "      <td>0.066406</td>\n",
       "      <td>0.004410</td>\n",
       "      <td>22784.077952</td>\n",
       "      <td>0.347657</td>\n",
       "    </tr>\n",
       "    <tr>\n",
       "      <th>4</th>\n",
       "      <td>4.jpg</td>\n",
       "      <td>100.473</td>\n",
       "      <td>0.066406</td>\n",
       "      <td>0.066406</td>\n",
       "      <td>0.004410</td>\n",
       "      <td>22784.077952</td>\n",
       "      <td>0.347657</td>\n",
       "    </tr>\n",
       "    <tr>\n",
       "      <th>...</th>\n",
       "      <td>...</td>\n",
       "      <td>...</td>\n",
       "      <td>...</td>\n",
       "      <td>...</td>\n",
       "      <td>...</td>\n",
       "      <td>...</td>\n",
       "      <td>...</td>\n",
       "    </tr>\n",
       "    <tr>\n",
       "      <th>427</th>\n",
       "      <td>427.jpg</td>\n",
       "      <td>98.599</td>\n",
       "      <td>0.074219</td>\n",
       "      <td>0.074219</td>\n",
       "      <td>0.005508</td>\n",
       "      <td>17899.678848</td>\n",
       "      <td>0.273127</td>\n",
       "    </tr>\n",
       "    <tr>\n",
       "      <th>428</th>\n",
       "      <td>428.jpg</td>\n",
       "      <td>98.599</td>\n",
       "      <td>0.074219</td>\n",
       "      <td>0.074219</td>\n",
       "      <td>0.005508</td>\n",
       "      <td>17899.678848</td>\n",
       "      <td>0.273127</td>\n",
       "    </tr>\n",
       "    <tr>\n",
       "      <th>429</th>\n",
       "      <td>429.jpg</td>\n",
       "      <td>98.599</td>\n",
       "      <td>0.074219</td>\n",
       "      <td>0.074219</td>\n",
       "      <td>0.005508</td>\n",
       "      <td>17899.678848</td>\n",
       "      <td>0.273127</td>\n",
       "    </tr>\n",
       "    <tr>\n",
       "      <th>430</th>\n",
       "      <td>430.jpg</td>\n",
       "      <td>98.599</td>\n",
       "      <td>0.074219</td>\n",
       "      <td>0.074219</td>\n",
       "      <td>0.005508</td>\n",
       "      <td>17899.678848</td>\n",
       "      <td>0.273127</td>\n",
       "    </tr>\n",
       "    <tr>\n",
       "      <th>431</th>\n",
       "      <td>431.jpg</td>\n",
       "      <td>98.599</td>\n",
       "      <td>0.074219</td>\n",
       "      <td>0.074219</td>\n",
       "      <td>0.005508</td>\n",
       "      <td>17899.678848</td>\n",
       "      <td>0.273127</td>\n",
       "    </tr>\n",
       "  </tbody>\n",
       "</table>\n",
       "<p>432 rows × 7 columns</p>\n",
       "</div>"
      ],
      "text/plain": [
       "    filename     area        fx        fy        ap    area_pixel  fraction\n",
       "0      0.jpg  100.473  0.066406  0.066406  0.004410  22784.077952  0.347657\n",
       "1      1.jpg  100.473  0.066406  0.066406  0.004410  22784.077952  0.347657\n",
       "2      2.jpg  100.473  0.066406  0.066406  0.004410  22784.077952  0.347657\n",
       "3      3.jpg  100.473  0.066406  0.066406  0.004410  22784.077952  0.347657\n",
       "4      4.jpg  100.473  0.066406  0.066406  0.004410  22784.077952  0.347657\n",
       "..       ...      ...       ...       ...       ...           ...       ...\n",
       "427  427.jpg   98.599  0.074219  0.074219  0.005508  17899.678848  0.273127\n",
       "428  428.jpg   98.599  0.074219  0.074219  0.005508  17899.678848  0.273127\n",
       "429  429.jpg   98.599  0.074219  0.074219  0.005508  17899.678848  0.273127\n",
       "430  430.jpg   98.599  0.074219  0.074219  0.005508  17899.678848  0.273127\n",
       "431  431.jpg   98.599  0.074219  0.074219  0.005508  17899.678848  0.273127\n",
       "\n",
       "[432 rows x 7 columns]"
      ]
     },
     "execution_count": 6,
     "metadata": {},
     "output_type": "execute_result"
    }
   ],
   "source": [
    "dataset = pd.DataFrame(df)\n",
    "dataset"
   ]
  },
  {
   "cell_type": "code",
   "execution_count": 63,
   "id": "d8e9b242-9f99-4e5c-9273-0e86e1837463",
   "metadata": {},
   "outputs": [
    {
     "data": {
      "text/plain": [
       "(0.7592592592592593, 0.24074074074074073)"
      ]
     },
     "execution_count": 63,
     "metadata": {},
     "output_type": "execute_result"
    }
   ],
   "source": [
    "training = np.random.choice([True, False], dataset.area.unique().shape, p=[0.75, 0.25])\n",
    "sum(training)/len(training), sum(~training)/len(training)"
   ]
  },
  {
   "cell_type": "code",
   "execution_count": 64,
   "id": "07ba388f-b702-4c4d-a3d5-73951f34e15f",
   "metadata": {},
   "outputs": [
    {
     "data": {
      "text/html": [
       "<div>\n",
       "<style scoped>\n",
       "    .dataframe tbody tr th:only-of-type {\n",
       "        vertical-align: middle;\n",
       "    }\n",
       "\n",
       "    .dataframe tbody tr th {\n",
       "        vertical-align: top;\n",
       "    }\n",
       "\n",
       "    .dataframe thead th {\n",
       "        text-align: right;\n",
       "    }\n",
       "</style>\n",
       "<table border=\"1\" class=\"dataframe\">\n",
       "  <thead>\n",
       "    <tr style=\"text-align: right;\">\n",
       "      <th></th>\n",
       "      <th>filename</th>\n",
       "      <th>area</th>\n",
       "      <th>fx</th>\n",
       "      <th>fy</th>\n",
       "      <th>ap</th>\n",
       "      <th>area_pixel</th>\n",
       "      <th>fraction</th>\n",
       "      <th>training</th>\n",
       "    </tr>\n",
       "  </thead>\n",
       "  <tbody>\n",
       "    <tr>\n",
       "      <th>0</th>\n",
       "      <td>0.jpg</td>\n",
       "      <td>100.473</td>\n",
       "      <td>0.066406</td>\n",
       "      <td>0.066406</td>\n",
       "      <td>0.004410</td>\n",
       "      <td>22784.077952</td>\n",
       "      <td>0.347657</td>\n",
       "      <td>True</td>\n",
       "    </tr>\n",
       "    <tr>\n",
       "      <th>1</th>\n",
       "      <td>1.jpg</td>\n",
       "      <td>100.473</td>\n",
       "      <td>0.066406</td>\n",
       "      <td>0.066406</td>\n",
       "      <td>0.004410</td>\n",
       "      <td>22784.077952</td>\n",
       "      <td>0.347657</td>\n",
       "      <td>True</td>\n",
       "    </tr>\n",
       "    <tr>\n",
       "      <th>2</th>\n",
       "      <td>2.jpg</td>\n",
       "      <td>100.473</td>\n",
       "      <td>0.066406</td>\n",
       "      <td>0.066406</td>\n",
       "      <td>0.004410</td>\n",
       "      <td>22784.077952</td>\n",
       "      <td>0.347657</td>\n",
       "      <td>True</td>\n",
       "    </tr>\n",
       "    <tr>\n",
       "      <th>3</th>\n",
       "      <td>3.jpg</td>\n",
       "      <td>100.473</td>\n",
       "      <td>0.066406</td>\n",
       "      <td>0.066406</td>\n",
       "      <td>0.004410</td>\n",
       "      <td>22784.077952</td>\n",
       "      <td>0.347657</td>\n",
       "      <td>True</td>\n",
       "    </tr>\n",
       "    <tr>\n",
       "      <th>4</th>\n",
       "      <td>4.jpg</td>\n",
       "      <td>100.473</td>\n",
       "      <td>0.066406</td>\n",
       "      <td>0.066406</td>\n",
       "      <td>0.004410</td>\n",
       "      <td>22784.077952</td>\n",
       "      <td>0.347657</td>\n",
       "      <td>True</td>\n",
       "    </tr>\n",
       "    <tr>\n",
       "      <th>...</th>\n",
       "      <td>...</td>\n",
       "      <td>...</td>\n",
       "      <td>...</td>\n",
       "      <td>...</td>\n",
       "      <td>...</td>\n",
       "      <td>...</td>\n",
       "      <td>...</td>\n",
       "      <td>...</td>\n",
       "    </tr>\n",
       "    <tr>\n",
       "      <th>427</th>\n",
       "      <td>427.jpg</td>\n",
       "      <td>98.599</td>\n",
       "      <td>0.074219</td>\n",
       "      <td>0.074219</td>\n",
       "      <td>0.005508</td>\n",
       "      <td>17899.678848</td>\n",
       "      <td>0.273127</td>\n",
       "      <td>False</td>\n",
       "    </tr>\n",
       "    <tr>\n",
       "      <th>428</th>\n",
       "      <td>428.jpg</td>\n",
       "      <td>98.599</td>\n",
       "      <td>0.074219</td>\n",
       "      <td>0.074219</td>\n",
       "      <td>0.005508</td>\n",
       "      <td>17899.678848</td>\n",
       "      <td>0.273127</td>\n",
       "      <td>False</td>\n",
       "    </tr>\n",
       "    <tr>\n",
       "      <th>429</th>\n",
       "      <td>429.jpg</td>\n",
       "      <td>98.599</td>\n",
       "      <td>0.074219</td>\n",
       "      <td>0.074219</td>\n",
       "      <td>0.005508</td>\n",
       "      <td>17899.678848</td>\n",
       "      <td>0.273127</td>\n",
       "      <td>False</td>\n",
       "    </tr>\n",
       "    <tr>\n",
       "      <th>430</th>\n",
       "      <td>430.jpg</td>\n",
       "      <td>98.599</td>\n",
       "      <td>0.074219</td>\n",
       "      <td>0.074219</td>\n",
       "      <td>0.005508</td>\n",
       "      <td>17899.678848</td>\n",
       "      <td>0.273127</td>\n",
       "      <td>False</td>\n",
       "    </tr>\n",
       "    <tr>\n",
       "      <th>431</th>\n",
       "      <td>431.jpg</td>\n",
       "      <td>98.599</td>\n",
       "      <td>0.074219</td>\n",
       "      <td>0.074219</td>\n",
       "      <td>0.005508</td>\n",
       "      <td>17899.678848</td>\n",
       "      <td>0.273127</td>\n",
       "      <td>False</td>\n",
       "    </tr>\n",
       "  </tbody>\n",
       "</table>\n",
       "<p>432 rows × 8 columns</p>\n",
       "</div>"
      ],
      "text/plain": [
       "    filename     area        fx        fy        ap    area_pixel  fraction  \\\n",
       "0      0.jpg  100.473  0.066406  0.066406  0.004410  22784.077952  0.347657   \n",
       "1      1.jpg  100.473  0.066406  0.066406  0.004410  22784.077952  0.347657   \n",
       "2      2.jpg  100.473  0.066406  0.066406  0.004410  22784.077952  0.347657   \n",
       "3      3.jpg  100.473  0.066406  0.066406  0.004410  22784.077952  0.347657   \n",
       "4      4.jpg  100.473  0.066406  0.066406  0.004410  22784.077952  0.347657   \n",
       "..       ...      ...       ...       ...       ...           ...       ...   \n",
       "427  427.jpg   98.599  0.074219  0.074219  0.005508  17899.678848  0.273127   \n",
       "428  428.jpg   98.599  0.074219  0.074219  0.005508  17899.678848  0.273127   \n",
       "429  429.jpg   98.599  0.074219  0.074219  0.005508  17899.678848  0.273127   \n",
       "430  430.jpg   98.599  0.074219  0.074219  0.005508  17899.678848  0.273127   \n",
       "431  431.jpg   98.599  0.074219  0.074219  0.005508  17899.678848  0.273127   \n",
       "\n",
       "     training  \n",
       "0        True  \n",
       "1        True  \n",
       "2        True  \n",
       "3        True  \n",
       "4        True  \n",
       "..        ...  \n",
       "427     False  \n",
       "428     False  \n",
       "429     False  \n",
       "430     False  \n",
       "431     False  \n",
       "\n",
       "[432 rows x 8 columns]"
      ]
     },
     "execution_count": 64,
     "metadata": {},
     "output_type": "execute_result"
    }
   ],
   "source": [
    "areas = dataset.area.unique()\n",
    "dataset['training'] = np.where(np.isin(dataset.area, areas[training]), True, False)\n",
    "dataset"
   ]
  },
  {
   "cell_type": "code",
   "execution_count": 65,
   "id": "eef3573a-616b-4bb9-89e2-1e589d0d5c9c",
   "metadata": {},
   "outputs": [
    {
     "data": {
      "text/plain": [
       "(75.92592592592592, 24.074074074074073)"
      ]
     },
     "execution_count": 65,
     "metadata": {},
     "output_type": "execute_result"
    }
   ],
   "source": [
    "train = dataset[dataset.training]\n",
    "test = dataset[~dataset.training]\n",
    "len(train)/len(dataset)*100, len(test)/len(dataset)*100"
   ]
  },
  {
   "cell_type": "code",
   "execution_count": 66,
   "id": "98fe4ce3-8311-4950-87d0-5a468f78cf2b",
   "metadata": {},
   "outputs": [
    {
     "data": {
      "image/png": "[encoded data removed]",
      "text/plain": [
       "<Figure size 432x288 with 1 Axes>"
      ]
     },
     "metadata": {
      "needs_background": "light"
     },
     "output_type": "display_data"
    }
   ],
   "source": [
    "plt.hist(dataset.area, alpha=0.5, bins=15, label='dataset')\n",
    "plt.hist(train.area, alpha=0.5, bins=15, label='treinamento')\n",
    "plt.hist(test.area, alpha=0.5, bins=15, label='validação')\n",
    "plt.legend()\n",
    "plt.xlabel(r'area (mm$^2$)')\n",
    "plt.show()"
   ]
  },
  {
   "cell_type": "code",
   "execution_count": 67,
   "id": "0d19b996-7686-4c20-9584-3f80389167cb",
   "metadata": {},
   "outputs": [
    {
     "data": {
      "image/png": "[encoded data removed]",
      "text/plain": [
       "<Figure size 432x288 with 1 Axes>"
      ]
     },
     "metadata": {
      "needs_background": "light"
     },
     "output_type": "display_data"
    }
   ],
   "source": [
    "plt.hist(dataset.ap, alpha=0.5, bins=15, label='dataset')\n",
    "plt.hist(train.ap, alpha=0.5, bins=15, label='treinamento')\n",
    "plt.hist(test.ap, alpha=0.5, bins=15, label='validação')\n",
    "plt.legend()\n",
    "plt.xlabel('area por píxel (mm$^2$/p$^2$)')\n",
    "plt.show()"
   ]
  },
  {
   "cell_type": "code",
   "execution_count": 68,
   "id": "89d53577-02d7-4553-81ff-b5efe308da97",
   "metadata": {},
   "outputs": [
    {
     "data": {
      "image/png": "[encoded data removed]",
      "text/plain": [
       "<Figure size 432x288 with 1 Axes>"
      ]
     },
     "metadata": {
      "needs_background": "light"
     },
     "output_type": "display_data"
    }
   ],
   "source": [
    "plt.hist(dataset.fx, alpha=0.5, bins=20, label='dataset')\n",
    "plt.hist(train.fx, alpha=0.5, bins=20, label='treinamento')\n",
    "plt.hist(test.fx, alpha=0.5, bins=20, label='validação')\n",
    "plt.legend()\n",
    "plt.xlabel('escala horizontal (mm/p)')\n",
    "plt.show()"
   ]
  },
  {
   "cell_type": "code",
   "execution_count": 69,
   "id": "86201cde-a23e-4816-b1ee-2fe2a39c73d1",
   "metadata": {},
   "outputs": [
    {
     "data": {
      "image/png": "[encoded data removed]",
      "text/plain": [
       "<Figure size 432x288 with 1 Axes>"
      ]
     },
     "metadata": {
      "needs_background": "light"
     },
     "output_type": "display_data"
    }
   ],
   "source": [
    "plt.hist(dataset.fy, alpha=0.5, bins=20, label='dataset')\n",
    "plt.hist(train.fy, alpha=0.5, bins=20, label='treinamento')\n",
    "plt.hist(test.fy, alpha=0.5, bins=20, label='validação')\n",
    "plt.legend()\n",
    "plt.xlabel('escala vertical (mm/p)')\n",
    "plt.show()"
   ]
  },
  {
   "cell_type": "code",
   "execution_count": 70,
   "id": "5dc053f4-b8cb-4450-b767-a39ffcce56b5",
   "metadata": {},
   "outputs": [],
   "source": [
    "dataset.to_csv(os.path.join('dataset', 'dataset.csv'), index=False)"
   ]
  },
  {
   "cell_type": "code",
   "execution_count": 71,
   "id": "a32b8062-8bd1-4c23-b12c-2430d3a2961d",
   "metadata": {},
   "outputs": [
    {
     "data": {
      "text/plain": [
       "0.7592592592592593"
      ]
     },
     "execution_count": 71,
     "metadata": {},
     "output_type": "execute_result"
    }
   ],
   "source": [
    "sum(dataset.training)/len(dataset)"
   ]
  },
  {
   "cell_type": "code",
   "execution_count": null,
   "id": "553d7a70-232f-47e2-be31-9d186c2c37ec",
   "metadata": {},
   "outputs": [],
   "source": []
  }
 ],
 "metadata": {
  "kernelspec": {
   "display_name": "Python 3 (ipykernel)",
   "language": "python",
   "name": "python3"
  },
  "language_info": {
   "codemirror_mode": {
    "name": "ipython",
    "version": 3
   },
   "file_extension": ".py",
   "mimetype": "text/x-python",
   "name": "python",
   "nbconvert_exporter": "python",
   "pygments_lexer": "ipython3",
   "version": "3.10.6"
  }
 },
 "nbformat": 4,
 "nbformat_minor": 5
}
